{
 "cells": [
  {
   "cell_type": "code",
   "execution_count": 182,
   "metadata": {
    "collapsed": true
   },
   "outputs": [],
   "source": [
    "wordcues=[]\n",
    "with open(\"../../20150621-kasdorf/kasdorf-forcealigned.txt\") as f :\n",
    "    for l in f.readlines() :\n",
    "        words=l.replace(\"\\n\",\"\").split(\" \")\n",
    "        if len(words)>3 :\n",
    "            wordcues.append(dict(time=float(words[2]), # \"{0:X}\".format(int(float(words[2])*100)),\n",
    "                                 len =float(words[3]), # \"{0:X}\".format(int(float(words[3])*100)),\n",
    "                                 cw=words[4]))"
   ]
  },
  {
   "cell_type": "code",
   "execution_count": 183,
   "metadata": {
    "collapsed": false
   },
   "outputs": [],
   "source": [
    "words=[] \n",
    "import re\n",
    "\n",
    "with open(\"../../20150621-kasdorf/kasdorf-full.txt\") as f :\n",
    "    for l in f.readlines(): \n",
    "        for t in re.split(\"(\\W+)\",l) :\n",
    "            if len(t)==0 :\n",
    "                next\n",
    "            if re.match(\"\\W+\",t) :\n",
    "                words.append(dict(s=t,w=False))\n",
    "            else :\n",
    "                words.append(dict(s=t,w=True))\n"
   ]
  },
  {
   "cell_type": "code",
   "execution_count": 191,
   "metadata": {
    "collapsed": false
   },
   "outputs": [],
   "source": [
    "def insert_sparse(words,wordcues) :\n",
    "    ci=0\n",
    "    a=\"\"\n",
    "    for wi,token in enumerate(words) :\n",
    "        a=False\n",
    "        token[\"n\"]=wi\n",
    "        if (token[\"w\"]==False) or (token[\"s\"]== \"\") :\n",
    "            next\n",
    "            # print (\"not a word: %s\" % token[\"s\"])\n",
    "        else :\n",
    "            if token[\"s\"].lower()==wordcues[ci][\"cw\"].lower() :\n",
    "                token.update(wordcues[ci])\n",
    "                token[\"ci\"]=ci\n",
    "                a=\"match %s %s\" % (token[\"s\"],wordcues[ci][\"cw\"])\n",
    "                ci=ci+1\n",
    "            else :\n",
    "                if wordcues[ci][\"cw\"]==\"<unk>\" :\n",
    "                    a=\"<unk> match %s\" % token\n",
    "                    token.update(wordcues[ci])\n",
    "                    token[\"ci\"]=ci\n",
    "                    #print(\"<unk> assumed: {} is {}\".format(\"\".join([a[\"s\"] for a in words[max([0,wi-6]):min([wi+6,len(words)-1])]]),\n",
    "                    #                                       \" \".join([a[\"cw\"] for a in wordcues[max([0,ci-3]):min([ci+3,len(wordcues)-1])]]),\n",
    "                    #                            ))\n",
    "                    ci=ci+1\n",
    "                else :\n",
    "                    pass\n",
    "        if ci>=len(wordcues) :\n",
    "            break\n",
    "        # if a : print(\"{wi}:{a} \".format(**locals()))"
   ]
  },
  {
   "cell_type": "code",
   "execution_count": 192,
   "metadata": {
    "collapsed": false
   },
   "outputs": [],
   "source": [
    "insert_sparse(words,wordcues)"
   ]
  },
  {
   "cell_type": "code",
   "execution_count": 195,
   "metadata": {
    "collapsed": false
   },
   "outputs": [],
   "source": [
    "def html_format(o) :\n",
    "    if \"len\" in o :\n",
    "        return '<span data-cue=\"{time}\" data-len=\"{len}\">{s}</span>'.format(**o)\n",
    "    else :\n",
    "        return o[\"s\"]    \n"
   ]
  },
  {
   "cell_type": "code",
   "execution_count": 196,
   "metadata": {
    "collapsed": false
   },
   "outputs": [
    {
     "name": "stdout",
     "output_type": "stream",
     "text": [
      "---\n",
      "Audio: http://ondemand-mp3.dradio.de/file/dradio/2015/06/21/dlf_20150621_1105_1be46d56.mp3\n",
      "URL: http://www.deutschlandfunk.de/interview-der-woche-langfristziel-muss-eine-europaeische.868.de.html?dram:article_id=323174\n",
      "---\n",
      "\n",
      "21.06.2015\n",
      "\n",
      "Interview der Woche\"Langfristziel muss eine europäische Armee sein\"\n",
      "\n",
      "Der scheidende Heeresinspekteur Bruno Kasdorf mahnt eine bessere Ausstattung\n",
      "der Truppen an. Kasdorf sagte im DLF-Interview der Woche, neue militärische\n",
      "Herausforderungen erforderten weitere Anschaffungen. Zudem sprach er sich dafür\n",
      "aus, dass ein NATO-Partnerland den Einsatz der Bundeswehr im Kosovo übernehme.\n",
      "\n",
      "Bruno Kasdorf im Gespräch mit Rolf Clement\n",
      "\n",
      "Rolf Clement: <span data-cue=\"0.09\" data-len=\"0.16\">Herr</span> <span data-cue=\"0.25\" data-len=\"0.33\">General</span> <span data-cue=\"0.86\" data-len=\"0.03\">Kasdorf</span>, <span data-cue=\"0.89\" data-len=\"0.19\">Sie</span> <span data-cue=\"1.08\" data-len=\"0.39\">scheiden</span> <span data-cue=\"1.47\" data-len=\"0.12\">im</span> <span data-cue=\"1.59\" data-len=\"0.35\">nächsten</span> <span data-cue=\"1.94\" data-len=\"0.33\">Monat</span> <span data-cue=\"2.27\" data-len=\"0.2\">aus</span> <span data-cue=\"2.47\" data-len=\"0.13\">dem</span> <span data-cue=\"2.6\" data-len=\"0.31\">Amt</span>,\n",
      "<span data-cue=\"2.91\" data-len=\"0.16\">und</span> <span data-cue=\"3.07\" data-len=\"0.08\">bei</span> <span data-cue=\"3.15\" data-len=\"0.24\">den</span> <span data-cue=\"3.39\" data-len=\"0.63\">Würdigungen</span>, <span data-cue=\"4.02\" data-len=\"0.12\">die</span> <span data-cue=\"4.14\" data-len=\"0.29\">dieser</span> <span data-cue=\"4.43\" data-len=\"0.4\">Tage</span> <span data-cue=\"4.83\" data-len=\"0.21\">über</span> <span data-cue=\"5.04\" data-len=\"0.14\">Sie</span> <span data-cue=\"5.18\" data-len=\"0.39\">gemacht</span> <span data-cue=\"5.57\" data-len=\"0.37\">werden</span>, <span data-cue=\"6.49\" data-len=\"0.21\">habe</span> <span data-cue=\"6.7\" data-len=\"0.14\">ich</span>\n",
      "<span data-cue=\"6.84\" data-len=\"0.38\">gehört</span>, <span data-cue=\"7.22\" data-len=\"0.12\">Sie</span> <span data-cue=\"7.34\" data-len=\"0.3\">seien</span> <span data-cue=\"7.64\" data-len=\"0.16\">ein</span> <span data-cue=\"7.8\" data-len=\"0.24\">Mann</span> <span data-cue=\"8.04\" data-len=\"0.15\">der</span> <span data-cue=\"8.19\" data-len=\"0.49\">klaren</span> <span data-cue=\"8.68\" data-len=\"0.54\">Sprache</span>, <span data-cue=\"9.22\" data-len=\"0.15\">der</span> <span data-cue=\"9.57\" data-len=\"0.03\">weiß</span>, <span data-cue=\"9.75\" data-len=\"0.21\">was</span> <span data-cue=\"9.99\" data-len=\"0.17\">das</span> <span data-cue=\"10.16\" data-len=\"0.2\">Heer</span> <span data-cue=\"10.36\" data-len=\"0.42\">braucht</span>.\n",
      "<span data-cue=\"10.83\" data-len=\"0.03\">Was</span> <span data-cue=\"10.94\" data-len=\"0.26\">braucht</span> <span data-cue=\"11.2\" data-len=\"0.14\">das</span> <span data-cue=\"11.34\" data-len=\"0.23\">Heer</span>?\n",
      "\n",
      "<span data-cue=\"12.27\" data-len=\"0.03\">Bruno</span> Kasdorf: Das <span data-cue=\"12.37\" data-len=\"0.14\">Heer</span> <span data-cue=\"12.51\" data-len=\"0.29\">braucht</span> <span data-cue=\"12.8\" data-len=\"0.37\">zunächst</span> <span data-cue=\"13.17\" data-len=\"0.92\">Kontinuität</span>, <span data-cue=\"14.41\" data-len=\"0.14\">und</span> <span data-cue=\"14.55\" data-len=\"0.14\">das</span> <span data-cue=\"14.69\" data-len=\"0.28\">Heer</span> <span data-cue=\"15.15\" data-len=\"0.32\">braucht</span> <span data-cue=\"15.47\" data-len=\"0.18\">auch</span>\n",
      "<span data-cue=\"15.65\" data-len=\"0.19\">eine</span> <span data-cue=\"15.84\" data-len=\"0.95\">hundertprozentige</span> <span data-cue=\"16.92\" data-len=\"0.54\">Ausstattung</span>.\n",
      "\n",
      "<span data-cue=\"17.76\" data-len=\"0.03\">Clement</span>: Das <span data-cue=\"17.91\" data-len=\"0.32\">Letztere</span> <span data-cue=\"18.37\" data-len=\"0.13\">hat</span> <span data-cue=\"18.5\" data-len=\"0.14\">es</span> <span data-cue=\"18.67\" data-len=\"0.16\">ja</span> <span data-cue=\"18.83\" data-len=\"0.21\">nicht</span>.\n",
      "\n",
      "Kasdorf: <span data-cue=\"19.43\" data-len=\"0.32\">Nein</span>. <span data-cue=\"19.75\" data-len=\"0.03\">Wir</span> <span data-cue=\"19.78\" data-len=\"0.35\">haben</span> <span data-cue=\"20.13\" data-len=\"0.55\">ja</span> <span data-cue=\"20.92\" data-len=\"0.32\">eine</span> <span data-cue=\"21.24\" data-len=\"0.22\">ganz</span> <span data-cue=\"21.46\" data-len=\"0.62\">unterschiedliche</span> <span data-cue=\"22.08\" data-len=\"0.8\">Entwicklung</span> <span data-cue=\"23.06\" data-len=\"0.27\">seit</span> <span data-cue=\"24.81\" data-len=\"0.03\">1990</span>\n",
      "<span data-cue=\"25.03\" data-len=\"0.29\">hinter</span> <span data-cue=\"25.32\" data-len=\"0.6\">uns</span>, <span data-cue=\"26.05\" data-len=\"0.47\">und</span> <span data-cue=\"26.63\" data-len=\"0.79\">die</span> <span data-cue=\"27.49\" data-len=\"0.79\">Prioritäten</span>, <span data-cue=\"28.28\" data-len=\"0.08\">die</span> <span data-cue=\"28.36\" data-len=\"1.09\">gesamtstaatlichen</span> <span data-cue=\"29.45\" data-len=\"0.76\">Prioritäten</span>, <span data-cue=\"30.21\" data-len=\"0.25\">waren</span>\n",
      "<span data-cue=\"30.46\" data-len=\"0.33\">zunächst</span> <span data-cue=\"30.79\" data-len=\"0.18\">erst</span> <span data-cue=\"30.97\" data-len=\"0.18\">mal</span> <span data-cue=\"31.35\" data-len=\"0.24\">nicht</span> <span data-cue=\"31.69\" data-len=\"0.34\">bei</span> <span data-cue=\"32.08\" data-len=\"0.24\">uns</span> <span data-cue=\"32.32\" data-len=\"0.65\">Soldaten</span>, <span data-cue=\"32.97\" data-len=\"0.29\">sondern</span> <span data-cue=\"33.26\" data-len=\"1.1\">verständlicherweise</span> <span data-cue=\"34.36\" data-len=\"0.22\">bei</span>\n",
      "<span data-cue=\"34.58\" data-len=\"0.29\">Dingen</span>, <span data-cue=\"34.87\" data-len=\"0.21\">wie</span> <span data-cue=\"35.27\" data-len=\"1.08\">Wiedervereinigung</span>, <span data-cue=\"36.45\" data-len=\"1.16\">Weltwirtschaftskrise</span>, <span data-cue=\"38.66\" data-len=\"0.14\">Eurokrise</span>, <span data-cue=\"38.88\" data-len=\"0.75\">ausgeglichener</span>\n",
      "<span data-cue=\"39.63\" data-len=\"0.69\">Haushalt</span>. <span data-cue=\"40.32\" data-len=\"0.03\">Und</span> <span data-cue=\"40.62\" data-len=\"0.26\">als</span> <span data-cue=\"40.88\" data-len=\"0.53\">wir</span> <span data-cue=\"41.58\" data-len=\"0.28\">im</span> <span data-cue=\"41.86\" data-len=\"0.48\">Jahr</span> <span data-cue=\"43.16\" data-len=\"0.28\">2010</span> <span data-cue=\"43.73\" data-len=\"0.25\">an</span> <span data-cue=\"43.98\" data-len=\"0.25\">die</span> <span data-cue=\"44.26\" data-len=\"0.89\">Neuausrichtung</span> <span data-cue=\"45.15\" data-len=\"0.09\">herangingen</span>, <span data-cue=\"45.74\" data-len=\"0.22\">unter</span>\n",
      "<span data-cue=\"45.96\" data-len=\"0.4\">anderem</span> <span data-cue=\"46.36\" data-len=\"0.43\">auch</span> <span data-cue=\"46.82\" data-len=\"0.58\">gezwungen</span> <span data-cue=\"47.4\" data-len=\"0.2\">durch</span> <span data-cue=\"47.6\" data-len=\"0.14\">die</span> <span data-cue=\"47.74\" data-len=\"0.68\">Aussetzung</span> <span data-cue=\"48.45\" data-len=\"0.46\">der</span> <span data-cue=\"49.04\" data-len=\"0.62\">Wehrpflicht</span>, <span data-cue=\"49.76\" data-len=\"0.29\">hatten</span> <span data-cue=\"50.05\" data-len=\"0.15\">wir</span>,\n",
      "<span data-cue=\"50.2\" data-len=\"0.31\">nachdem</span> <span data-cue=\"50.51\" data-len=\"0.09\">wir</span> <span data-cue=\"50.6\" data-len=\"0.22\">alles</span> <span data-cue=\"50.82\" data-len=\"0.66\">durchgerechnet</span> <span data-cue=\"51.48\" data-len=\"0.71\">haben</span>, <span data-cue=\"52.27\" data-len=\"0.16\">das</span> <span data-cue=\"52.43\" data-len=\"0.6\">Ergebnis</span>, <span data-cue=\"53.03\" data-len=\"0.2\">dass</span> <span data-cue=\"53.23\" data-len=\"0.57\">wir</span> <span data-cue=\"53.85\" data-len=\"0.44\">nur</span> <span data-cue=\"54.33\" data-len=\"0.34\">eine</span>\n",
      "<span data-cue=\"54.97\" data-len=\"0.55\">Ausstattung</span> <span data-cue=\"55.52\" data-len=\"0.13\">von</span> <span data-cue=\"55.77\" data-len=\"0.03\">70</span> <span data-cue=\"55.86\" data-len=\"0.14\">bis</span> <span data-cue=\"56.03\" data-len=\"0.03\">80</span> <span data-cue=\"56.53\" data-len=\"0.48\">Prozent</span> <span data-cue=\"57.61\" data-len=\"0.49\">leisten</span> <span data-cue=\"58.1\" data-len=\"0.34\">können</span> <span data-cue=\"58.44\" data-len=\"0.39\">und</span> <span data-cue=\"59.1\" data-len=\"0.51\">entsprechend</span> <span data-cue=\"59.61\" data-len=\"0.16\">ist</span> <span data-cue=\"59.77\" data-len=\"0.13\">dann</span> <span data-cue=\"59.9\" data-len=\"0.11\">die</span>\n",
      "<span data-cue=\"60.01\" data-len=\"0.39\">Struktur</span> <span data-cue=\"60.4\" data-len=\"0.46\">geplant</span> <span data-cue=\"60.86\" data-len=\"0.42\">worden</span>. <span data-cue=\"61.36\" data-len=\"0.03\">Wir</span> <span data-cue=\"61.39\" data-len=\"0.27\">haben</span> <span data-cue=\"61.66\" data-len=\"0.19\">jetzt</span> <span data-cue=\"61.85\" data-len=\"0.2\">eine</span> <span data-cue=\"62.38\" data-len=\"0.3\">Lageänderung</span>, <span data-cue=\"63.26\" data-len=\"0.5\">die</span> <span data-cue=\"63.8\" data-len=\"0.03\">100</span> <span data-cue=\"64.35\" data-len=\"0.52\">Prozent</span>\n",
      "<span data-cue=\"65.03\" data-len=\"0.57\">erfordert</span>; <span data-cue=\"66.38\" data-len=\"0.46\">deshalb</span> <span data-cue=\"67.19\" data-len=\"0.34\">mein</span> <span data-cue=\"67.53\" data-len=\"0.59\">Wunsch</span>, <span data-cue=\"68.29\" data-len=\"0.2\">dass</span> <span data-cue=\"68.49\" data-len=\"0.15\">das</span> <span data-cue=\"68.64\" data-len=\"0.16\">Heer</span> <span data-cue=\"68.8\" data-len=\"0.39\">auch</span> <span data-cue=\"69.19\" data-len=\"0.15\">zu</span> <span data-cue=\"69.57\" data-len=\"0.03\">100</span> <span data-cue=\"69.6\" data-len=\"0.36\">Prozent</span> <span data-cue=\"69.96\" data-len=\"0.67\">ausgestattet</span>\n",
      "<span data-cue=\"70.63\" data-len=\"0.35\">wird</span>.\n",
      "\n",
      "Clement: Wie viel brauchen Sie und \n"
     ]
    }
   ],
   "source": [
    "print(\"\".join([html_format(a) for a in words[0:600]]))"
   ]
  }
 ],
 "metadata": {
  "kernelspec": {
   "display_name": "Python 3",
   "language": "python",
   "name": "python3"
  },
  "language_info": {
   "codemirror_mode": {
    "name": "ipython",
    "version": 3
   },
   "file_extension": ".py",
   "mimetype": "text/x-python",
   "name": "python",
   "nbconvert_exporter": "python",
   "pygments_lexer": "ipython3",
   "version": "3.4.0"
  }
 },
 "nbformat": 4,
 "nbformat_minor": 0
}
