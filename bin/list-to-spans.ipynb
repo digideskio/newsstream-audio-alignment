{
 "cells": [
  {
   "cell_type": "code",
   "execution_count": 12,
   "metadata": {
    "collapsed": false
   },
   "outputs": [],
   "source": [
    "wordcues=[]\n",
    "with open(\"../../20150621-kasdorf/dlf_first72_seconds.txt\") as f :\n",
    "    for l in f.readlines() :\n",
    "        words=l.replace(\"\\n\",\"\").split(\" \")\n",
    "        if len(words)>3 :\n",
    "            wordcues.append(dict(time=float(words[2]),word=words[4]))"
   ]
  },
  {
   "cell_type": "code",
   "execution_count": 15,
   "metadata": {
    "collapsed": false
   },
   "outputs": [
    {
     "data": {
      "text/plain": [
       "'<span data-cue=\"0.09\">Herr</span> <span data-cue=\"0.25\">General</span> <span data-cue=\"0.86\"><unk></span> <span data-cue=\"0.89\">Sie</span> <span data-cue=\"1.08\">scheiden</span> <span data-cue=\"1.47\">im</span> <span data-cue=\"1.59\">nächsten</span> <span data-cue=\"1.94\">Monat</span> <span data-cue=\"2.27\">aus</span> <span data-cue=\"2.47\">dem</span> <span data-cue=\"2.6\">Amt</span> <span data-cue=\"2.91\">und</span> <span data-cue=\"3.07\">bei</span> <span data-cue=\"3.15\">den</span> <span data-cue=\"3.39\">Würdigungen</span> <span data-cue=\"4.02\">die</span> <span data-cue=\"4.14\">dieser</span> <span data-cue=\"4.43\">Tage</span> <span data-cue=\"4.83\">über</span> <span data-cue=\"5.04\">Sie</span> <span data-cue=\"5.18\">gemacht</span> <span data-cue=\"5.57\">werden</span> <span data-cue=\"6.49\">habe</span> <span data-cue=\"6.7\">ich</span> <span data-cue=\"6.84\">gehört</span> <span data-cue=\"7.22\">Sie</span> <span data-cue=\"7.34\">seien</span> <span data-cue=\"7.64\">ein</span> <span data-cue=\"7.8\">Mann</span> <span data-cue=\"8.04\">der</span> <span data-cue=\"8.19\">klaren</span> <span data-cue=\"8.68\">Sprache</span> <span data-cue=\"9.22\">der</span> <span data-cue=\"9.57\"><unk></span> <span data-cue=\"9.75\">was</span> <span data-cue=\"9.99\">das</span> <span data-cue=\"10.16\">Heer</span> <span data-cue=\"10.36\">braucht</span> <span data-cue=\"10.83\"><unk></span> <span data-cue=\"10.94\">braucht</span> <span data-cue=\"11.2\">das</span> <span data-cue=\"11.34\">Heer</span> <span data-cue=\"12.27\"><unk></span> <span data-cue=\"12.37\">Heer</span> <span data-cue=\"12.51\">braucht</span> <span data-cue=\"12.8\">zunächst</span> <span data-cue=\"13.17\">Kontinuität</span> <span data-cue=\"14.41\">und</span> <span data-cue=\"14.55\">das</span> <span data-cue=\"14.69\">Heer</span> <span data-cue=\"15.15\">braucht</span> <span data-cue=\"15.47\">auch</span> <span data-cue=\"15.65\">eine</span> <span data-cue=\"15.84\">hundertprozentige</span> <span data-cue=\"16.92\">Ausstattung</span> <span data-cue=\"17.76\"><unk></span> <span data-cue=\"17.91\">Letztere</span> <span data-cue=\"18.37\">hat</span> <span data-cue=\"18.5\">es</span> <span data-cue=\"18.67\">ja</span> <span data-cue=\"18.83\">nicht</span> <span data-cue=\"19.43\">Nein</span> <span data-cue=\"19.75\"><unk></span> <span data-cue=\"19.78\">haben</span> <span data-cue=\"20.13\">ja</span> <span data-cue=\"20.92\">eine</span> <span data-cue=\"21.24\">ganz</span> <span data-cue=\"21.46\">unterschiedliche</span> <span data-cue=\"22.08\">Entwicklung</span> <span data-cue=\"23.06\">seit</span> <span data-cue=\"24.81\"><unk></span> <span data-cue=\"25.03\">hinter</span> <span data-cue=\"25.32\">uns</span> <span data-cue=\"26.05\">und</span> <span data-cue=\"26.63\">die</span> <span data-cue=\"27.49\">Prioritäten</span> <span data-cue=\"28.28\">die</span> <span data-cue=\"28.36\">gesamtstaatlichen</span> <span data-cue=\"29.45\">Prioritäten</span> <span data-cue=\"30.21\">waren</span> <span data-cue=\"30.46\">zunächst</span> <span data-cue=\"30.79\">erst</span> <span data-cue=\"30.97\">mal</span> <span data-cue=\"31.35\">nicht</span> <span data-cue=\"31.69\">bei</span> <span data-cue=\"32.08\">uns</span> <span data-cue=\"32.32\">Soldaten</span> <span data-cue=\"32.97\">sondern</span> <span data-cue=\"33.26\">verständlicherweise</span> <span data-cue=\"34.36\">bei</span> <span data-cue=\"34.58\">Dingen</span> <span data-cue=\"34.87\">wie</span> <span data-cue=\"35.27\">Wiedervereinigung</span> <span data-cue=\"36.45\">Weltwirtschaftskrise</span> <span data-cue=\"38.66\"><unk></span> <span data-cue=\"38.88\">ausgeglichener</span> <span data-cue=\"39.63\">Haushalt</span> <span data-cue=\"40.32\"><unk></span> <span data-cue=\"40.62\">als</span> <span data-cue=\"40.88\">wir</span> <span data-cue=\"41.58\">im</span> <span data-cue=\"41.86\">Jahr</span> <span data-cue=\"43.16\"><unk></span> <span data-cue=\"43.73\">an</span> <span data-cue=\"43.98\">die</span> <span data-cue=\"44.26\">Neuausrichtung</span> <span data-cue=\"45.15\"><unk></span> <span data-cue=\"45.74\">unter</span> <span data-cue=\"45.96\">anderem</span> <span data-cue=\"46.36\">auch</span> <span data-cue=\"46.82\">gezwungen</span> <span data-cue=\"47.4\">durch</span> <span data-cue=\"47.6\">die</span> <span data-cue=\"47.74\">Aussetzung</span> <span data-cue=\"48.45\">der</span> <span data-cue=\"49.04\">Wehrpflicht</span> <span data-cue=\"49.76\">hatten</span> <span data-cue=\"50.05\">wir</span> <span data-cue=\"50.2\">nachdem</span> <span data-cue=\"50.51\">wir</span> <span data-cue=\"50.6\">alles</span> <span data-cue=\"50.82\">durchgerechnet</span> <span data-cue=\"51.48\">haben</span> <span data-cue=\"52.27\">das</span> <span data-cue=\"52.43\">Ergebnis</span> <span data-cue=\"53.03\">dass</span> <span data-cue=\"53.23\">wir</span> <span data-cue=\"53.85\">nur</span> <span data-cue=\"54.33\">eine</span> <span data-cue=\"54.97\">Ausstattung</span> <span data-cue=\"55.52\">von</span> <span data-cue=\"55.77\"><unk></span> <span data-cue=\"55.86\">bis</span> <span data-cue=\"56.03\"><unk></span> <span data-cue=\"56.53\">Prozent</span> <span data-cue=\"57.61\">leisten</span> <span data-cue=\"58.1\">können</span> <span data-cue=\"58.44\">und</span> <span data-cue=\"59.1\">entsprechend</span> <span data-cue=\"59.61\">ist</span> <span data-cue=\"59.77\">dann</span> <span data-cue=\"59.9\">die</span> <span data-cue=\"60.01\">Struktur</span> <span data-cue=\"60.4\">geplant</span> <span data-cue=\"60.86\">worden</span> <span data-cue=\"61.36\"><unk></span> <span data-cue=\"61.39\">haben</span> <span data-cue=\"61.66\">jetzt</span> <span data-cue=\"61.85\">eine</span> <span data-cue=\"62.38\"><unk></span> <span data-cue=\"63.26\">die</span> <span data-cue=\"63.8\"><unk></span> <span data-cue=\"64.35\">Prozent</span> <span data-cue=\"65.03\">erfordert</span> <span data-cue=\"66.38\">deshalb</span> <span data-cue=\"67.19\">mein</span> <span data-cue=\"67.53\">Wunsch</span> <span data-cue=\"68.29\">dass</span> <span data-cue=\"68.49\">das</span> <span data-cue=\"68.64\">Heer</span> <span data-cue=\"68.8\">auch</span> <span data-cue=\"69.19\">zu</span> <span data-cue=\"69.57\"><unk></span> <span data-cue=\"69.6\">Prozent</span> <span data-cue=\"69.96\">ausgestattet</span> <span data-cue=\"70.63\">wird</span>'"
      ]
     },
     "execution_count": 15,
     "metadata": {},
     "output_type": "execute_result"
    }
   ],
   "source": [
    "\" \".join(['<span data-cue=\"{time}\">{word}</span>'.format(**a) for a in wordcues])"
   ]
  }
 ],
 "metadata": {
  "kernelspec": {
   "display_name": "Python 3",
   "language": "python",
   "name": "python3"
  },
  "language_info": {
   "codemirror_mode": {
    "name": "ipython",
    "version": 3
   },
   "file_extension": ".py",
   "mimetype": "text/x-python",
   "name": "python",
   "nbconvert_exporter": "python",
   "pygments_lexer": "ipython3",
   "version": "3.4.0"
  }
 },
 "nbformat": 4,
 "nbformat_minor": 0
}
